{
 "cells": [
  {
   "cell_type": "code",
   "execution_count": 16,
   "id": "e806e3c2",
   "metadata": {},
   "outputs": [
    {
     "name": "stdout",
     "output_type": "stream",
     "text": [
      "Finish importing\n"
     ]
    }
   ],
   "source": [
    "import numpy as np\n",
    "print (\"Finish importing\")"
   ]
  },
  {
   "cell_type": "code",
   "execution_count": 26,
   "id": "6602cd97",
   "metadata": {},
   "outputs": [
    {
     "name": "stdout",
     "output_type": "stream",
     "text": [
      "[[ 1  3]\n",
      " [ 1  4]\n",
      " [ 1  5]\n",
      " [ 1  6]\n",
      " [ 1  8]\n",
      " [ 1  9]\n",
      " [ 1 10]\n",
      " [ 1 11]\n",
      " [ 1 12]\n",
      " [ 1 14]\n",
      " [ 1 15]\n",
      " [ 1 16]\n",
      " [ 1 17]]\n",
      "finish loading initial matrix\n"
     ]
    }
   ],
   "source": [
    "x_raw_matrix = []\n",
    "y_raw_matrix = []\n",
    "\n",
    "with open('SLR_data.txt') as f:\n",
    "    for line in f:\n",
    "        x_value =  int(line.strip().split()[0])\n",
    "        y_value =  float(line.strip().split()[1])\n",
    "        x_raw_matrix.append([1,x_value])\n",
    "        y_raw_matrix.append(y_value)\n",
    "f.close()\n",
    "\n",
    "x_matrix = np.array(x_raw_matrix)\n",
    "y_matrix = np.array(y_raw_matrix)\n",
    "print(x_matrix)\n",
    "print(\"finish loading SLR initial matrix\")"
   ]
  },
  {
   "cell_type": "code",
   "execution_count": 37,
   "id": "947b542c",
   "metadata": {},
   "outputs": [
    {
     "name": "stdout",
     "output_type": "stream",
     "text": [
      "X matrix is:\n",
      "[[ 1  3]\n",
      " [ 1  4]\n",
      " [ 1  5]\n",
      " [ 1  6]\n",
      " [ 1  8]\n",
      " [ 1  9]\n",
      " [ 1 10]\n",
      " [ 1 11]\n",
      " [ 1 12]\n",
      " [ 1 14]\n",
      " [ 1 15]\n",
      " [ 1 16]\n",
      " [ 1 17]]\n",
      "\n",
      "X' multiply X is:\n",
      "[[  13  130]\n",
      " [ 130 1562]]\n",
      "\n",
      "The inverse of (X' multiply X) is:\n",
      "[[ 0.45860247 -0.03816794]\n",
      " [-0.03816794  0.00381679]]\n",
      "\n",
      "X' multiply Y is:\n",
      "[ 44.4 514.8]\n",
      "\n",
      "Result b matrix is:\n",
      "[0.71309454 0.27022901]\n",
      "\n"
     ]
    }
   ],
   "source": [
    "x_trans = x_matrix.transpose()\n",
    "x_trans_mul_x = np.matmul(x_trans, x_matrix)\n",
    "inv_x_trans_mul_x = np.linalg.inv(x_trans_mul_x)\n",
    "x_trans_mul_y = np.matmul(x_trans, y_matrix)\n",
    "b_matrix = np.matmul(inv_x_trans_mul_x,x_trans_mul_y)\n",
    "\n",
    "print(\"X matrix is:\")\n",
    "print(x_matrix)\n",
    "print(\"\")\n",
    "\n",
    "print(\"X' multiply X is:\")\n",
    "print(x_trans_mul_x)\n",
    "print(\"\")\n",
    "\n",
    "print(\"The inverse of (X' multiply X) is:\")\n",
    "print(inv_x_trans_mul_x)\n",
    "print(\"\")\n",
    "\n",
    "print(\"X' multiply Y is:\")\n",
    "print(x_trans_mul_y)\n",
    "print(\"\")\n",
    "\n",
    "print(\"Result b matrix is:\")\n",
    "print(b_matrix)\n",
    "print(\"\")"
   ]
  },
  {
   "cell_type": "code",
   "execution_count": 43,
   "id": "52e35d9a",
   "metadata": {},
   "outputs": [
    {
     "name": "stdout",
     "output_type": "stream",
     "text": [
      "[[ 1.   3.   2.   4. ]\n",
      " [ 1.   4.   5.   1. ]\n",
      " [ 1.   5.   6.   7. ]\n",
      " [ 1.   6.   3.   5. ]\n",
      " [ 1.   7.   2.   6. ]\n",
      " [ 1.   8.   7.   8. ]\n",
      " [ 1.   9.   1.   4. ]\n",
      " [ 1.  10.   9.   0.5]\n",
      " [ 1.  11.   4.   2. ]\n",
      " [ 1.  12.   7.   2. ]\n",
      " [ 1.  13.   1.   3. ]\n",
      " [ 1.  14.  10.  12. ]\n",
      " [ 1.  15.   5.   7. ]]\n",
      "finish loading MLR initial matrix\n"
     ]
    }
   ],
   "source": [
    "x_MLR_raw_matrix = []\n",
    "y_MLR_raw_matrix = []\n",
    "\n",
    "with open('MLR_data.txt') as f:\n",
    "    for line in f:\n",
    "        y_value = float(line.strip().split()[0])\n",
    "        x1_value = float(line.strip().split()[1])\n",
    "        x2_value = float(line.strip().split()[2])\n",
    "        x3_value = float(line.strip().split()[3])\n",
    "        x_MLR_raw_matrix.append([1,x1_value,x2_value,x3_value])\n",
    "        y_MLR_raw_matrix.append(y_value)\n",
    "f.close()\n",
    "\n",
    "x_MLR_matrix = np.array(x_MLR_raw_matrix)\n",
    "y_MLR_matrix = np.array(y_MLR_raw_matrix)\n",
    "print(x_MLR_matrix)\n",
    "print(\"finish loading MLR initial matrix\")"
   ]
  },
  {
   "cell_type": "code",
   "execution_count": 51,
   "id": "290671e0",
   "metadata": {},
   "outputs": [
    {
     "name": "stdout",
     "output_type": "stream",
     "text": [
      "X matrix is:\n",
      "[[ 1.   3.   2.   4. ]\n",
      " [ 1.   4.   5.   1. ]\n",
      " [ 1.   5.   6.   7. ]\n",
      " [ 1.   6.   3.   5. ]\n",
      " [ 1.   7.   2.   6. ]\n",
      " [ 1.   8.   7.   8. ]\n",
      " [ 1.   9.   1.   4. ]\n",
      " [ 1.  10.   9.   0.5]\n",
      " [ 1.  11.   4.   2. ]\n",
      " [ 1.  12.   7.   2. ]\n",
      " [ 1.  13.   1.   3. ]\n",
      " [ 1.  14.  10.  12. ]\n",
      " [ 1.  15.   5.   7. ]]\n",
      "\n",
      "X' multiply X is:\n",
      "[[  13.    117.     62.     61.5 ]\n",
      " [ 117.   1235.    599.    586.  ]\n",
      " [  62.    599.    400.    326.5 ]\n",
      " [  61.5   586.    326.5   417.25]]\n",
      "\n",
      "The inverse of (X' multiply X) is:\n",
      "[[ 0.65086655 -0.04049659 -0.02313689 -0.02095409]\n",
      " [-0.04049659  0.0061495  -0.00208828 -0.00103354]\n",
      " [-0.02313689 -0.00208828  0.01117103 -0.00239829]\n",
      " [-0.02095409 -0.00103354 -0.00239829  0.00881336]]\n",
      "\n",
      "X' multiply Y is:\n",
      "[ 44.4  458.5  228.4  221.95]\n",
      "\n",
      "Result b matrix is:\n",
      "[0.39556089 0.31514078 0.03440584 0.00411504]\n",
      "\n"
     ]
    }
   ],
   "source": [
    "x_MLR_trans = x_MLR_matrix.transpose()\n",
    "x_MLR_trans_mul_x = np.matmul(x_MLR_trans, x_MLR_matrix)\n",
    "inv_x_MLR_trans_mul_x = np.linalg.inv(x_MLR_trans_mul_x)\n",
    "x_MLR_trans_mul_y = np.matmul(x_MLR_trans, y_MLR_matrix)\n",
    "b_MLR_matrix = np.matmul(inv_x_MLR_trans_mul_x,x_MLR_trans_mul_y)\n",
    "\n",
    "print(\"X matrix is:\")\n",
    "print(x_MLR_matrix)\n",
    "print(\"\")\n",
    "\n",
    "print(\"X' multiply X is:\")\n",
    "print(x_MLR_trans_mul_x)\n",
    "print(\"\")\n",
    "\n",
    "print(\"The inverse of (X' multiply X) is:\")\n",
    "print(inv_x_MLR_trans_mul_x)\n",
    "print(\"\")\n",
    "\n",
    "print(\"X' multiply Y is:\")\n",
    "print(x_MLR_trans_mul_y)\n",
    "print(\"\")\n",
    "\n",
    "print(\"Result b matrix is:\")\n",
    "print(b_MLR_matrix)\n",
    "print(\"\")"
   ]
  },
  {
   "cell_type": "code",
   "execution_count": null,
   "id": "9c994695",
   "metadata": {},
   "outputs": [],
   "source": []
  }
 ],
 "metadata": {
  "kernelspec": {
   "display_name": "Python 3 (ipykernel)",
   "language": "python",
   "name": "python3"
  },
  "language_info": {
   "codemirror_mode": {
    "name": "ipython",
    "version": 3
   },
   "file_extension": ".py",
   "mimetype": "text/x-python",
   "name": "python",
   "nbconvert_exporter": "python",
   "pygments_lexer": "ipython3",
   "version": "3.9.13"
  }
 },
 "nbformat": 4,
 "nbformat_minor": 5
}
