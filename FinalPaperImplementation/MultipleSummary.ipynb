{
  "nbformat": 4,
  "nbformat_minor": 0,
  "metadata": {
    "colab": {
      "provenance": []
    },
    "kernelspec": {
      "name": "python3",
      "display_name": "Python 3"
    },
    "language_info": {
      "name": "python"
    }
  },
  "cells": [
    {
      "cell_type": "code",
      "execution_count": 1,
      "metadata": {
        "colab": {
          "base_uri": "https://localhost:8080/"
        },
        "id": "-S1yW_ApEzJk",
        "outputId": "ca358dc0-10c5-42eb-e675-cf27d94e146d"
      },
      "outputs": [
        {
          "output_type": "stream",
          "name": "stdout",
          "text": [
            "Looking in indexes: https://pypi.org/simple, https://us-python.pkg.dev/colab-wheels/public/simple/\n",
            "Requirement already satisfied: transformers in /usr/local/lib/python3.10/dist-packages (4.28.1)\n",
            "Requirement already satisfied: huggingface-hub<1.0,>=0.11.0 in /usr/local/lib/python3.10/dist-packages (from transformers) (0.14.1)\n",
            "Requirement already satisfied: regex!=2019.12.17 in /usr/local/lib/python3.10/dist-packages (from transformers) (2022.10.31)\n",
            "Requirement already satisfied: tokenizers!=0.11.3,<0.14,>=0.11.1 in /usr/local/lib/python3.10/dist-packages (from transformers) (0.13.3)\n",
            "Requirement already satisfied: requests in /usr/local/lib/python3.10/dist-packages (from transformers) (2.27.1)\n",
            "Requirement already satisfied: pyyaml>=5.1 in /usr/local/lib/python3.10/dist-packages (from transformers) (6.0)\n",
            "Requirement already satisfied: filelock in /usr/local/lib/python3.10/dist-packages (from transformers) (3.12.0)\n",
            "Requirement already satisfied: tqdm>=4.27 in /usr/local/lib/python3.10/dist-packages (from transformers) (4.65.0)\n",
            "Requirement already satisfied: packaging>=20.0 in /usr/local/lib/python3.10/dist-packages (from transformers) (23.1)\n",
            "Requirement already satisfied: numpy>=1.17 in /usr/local/lib/python3.10/dist-packages (from transformers) (1.22.4)\n",
            "Requirement already satisfied: fsspec in /usr/local/lib/python3.10/dist-packages (from huggingface-hub<1.0,>=0.11.0->transformers) (2023.4.0)\n",
            "Requirement already satisfied: typing-extensions>=3.7.4.3 in /usr/local/lib/python3.10/dist-packages (from huggingface-hub<1.0,>=0.11.0->transformers) (4.5.0)\n",
            "Requirement already satisfied: charset-normalizer~=2.0.0 in /usr/local/lib/python3.10/dist-packages (from requests->transformers) (2.0.12)\n",
            "Requirement already satisfied: certifi>=2017.4.17 in /usr/local/lib/python3.10/dist-packages (from requests->transformers) (2022.12.7)\n",
            "Requirement already satisfied: urllib3<1.27,>=1.21.1 in /usr/local/lib/python3.10/dist-packages (from requests->transformers) (1.26.15)\n",
            "Requirement already satisfied: idna<4,>=2.5 in /usr/local/lib/python3.10/dist-packages (from requests->transformers) (3.4)\n"
          ]
        }
      ],
      "source": [
        "!pip install transformers"
      ]
    },
    {
      "cell_type": "code",
      "source": [
        "import transformers"
      ],
      "metadata": {
        "id": "zc9PGNm6FJfC"
      },
      "execution_count": 2,
      "outputs": []
    },
    {
      "cell_type": "code",
      "source": [
        "!pip install sentencepiece"
      ],
      "metadata": {
        "colab": {
          "base_uri": "https://localhost:8080/"
        },
        "id": "INIZyq_kKEsf",
        "outputId": "42be3506-65e6-42dc-e366-41c0701e7a73"
      },
      "execution_count": 3,
      "outputs": [
        {
          "output_type": "stream",
          "name": "stdout",
          "text": [
            "Looking in indexes: https://pypi.org/simple, https://us-python.pkg.dev/colab-wheels/public/simple/\n",
            "Requirement already satisfied: sentencepiece in /usr/local/lib/python3.10/dist-packages (0.1.99)\n"
          ]
        }
      ]
    },
    {
      "cell_type": "code",
      "source": [
        "text_example = \"The Computer Science major provides a solid foundation in the areas of systems programming, algorithm design, artificial intelligence, and engineering large software systems using state-of-the-art methodologies and programming languages. Students should be expected to: develop a solid foundation in mathematical studies relevant to computer science; master skills in computer science; enjoy possibilities for internships and part-time employment with local companies; and become problem solvers. These goals are consistent with the goals outlined by the Association for Computing Machinery. Entry to Major Requirements: Entry to the Computer Science major requires that the student has completed: MATH 140 GQ(4), MATH 141 GQ(4), CMPSC 121(3), and CMPSC 122(3). A 2.00 or higher cumulative grade-point average is required.\""
      ],
      "metadata": {
        "id": "2Foz68XXFN5F"
      },
      "execution_count": 4,
      "outputs": []
    },
    {
      "cell_type": "code",
      "source": [
        "from transformers import pipeline\n",
        "summarizer = pipeline(\"summarization\", model = \"google/pegasus-xsum\")\n",
        "summarizer(text_example)"
      ],
      "metadata": {
        "colab": {
          "base_uri": "https://localhost:8080/"
        },
        "id": "VaZ6fIgiFdrt",
        "outputId": "728db024-022c-440c-ffe5-83ebceca87be"
      },
      "execution_count": 5,
      "outputs": [
        {
          "output_type": "execute_result",
          "data": {
            "text/plain": [
              "[{'summary_text': 'The Computer Science major provides a solid foundation in the areas of systems programming, algorithm design, artificial intelligence, and engineering large software systems using state-of-the-art methodologies and programming languages.'}]"
            ]
          },
          "metadata": {},
          "execution_count": 5
        }
      ]
    },
    {
      "cell_type": "code",
      "source": [
        "from transformers import pipeline\n",
        "summarizer = pipeline(\"summarization\", model = \"facebook/bart-large-cnn\")\n",
        "summarizer(text_example)"
      ],
      "metadata": {
        "colab": {
          "base_uri": "https://localhost:8080/"
        },
        "id": "PbEDd38fF81c",
        "outputId": "915a0dc2-0208-4dbb-a95a-7d147abe9944"
      },
      "execution_count": 6,
      "outputs": [
        {
          "output_type": "execute_result",
          "data": {
            "text/plain": [
              "[{'summary_text': 'The Computer Science major provides a solid foundation in the areas of systems programming, algorithm design, artificial intelligence, and engineering large software systems. Students should be expected to develop a solid. foundation in mathematical studies relevant to computer science; master skills in computer. science; enjoy possibilities for internships and part-time employment with local companies.'}]"
            ]
          },
          "metadata": {},
          "execution_count": 6
        }
      ]
    },
    {
      "cell_type": "code",
      "source": [
        "from transformers import pipeline\n",
        "summarizer = pipeline(\"summarization\", model= \"csebuetnlp/mT5_multilingual_XLSum\")\n",
        "summarizer(text_example)"
      ],
      "metadata": {
        "colab": {
          "base_uri": "https://localhost:8080/"
        },
        "id": "31hVqG2cGOnr",
        "outputId": "2f743f22-ea74-4c8e-9750-9487c1c861e9"
      },
      "execution_count": 7,
      "outputs": [
        {
          "output_type": "stream",
          "name": "stderr",
          "text": [
            "/usr/local/lib/python3.10/dist-packages/transformers/convert_slow_tokenizer.py:454: UserWarning: The sentencepiece tokenizer that you are converting to a fast tokenizer uses the byte fallback option which is not implemented in the fast tokenizers. In practice this means that the fast version of the tokenizer can produce unknown tokens whereas the sentencepiece version would have converted these unknown tokens into a sequence of byte tokens matching the original piece of text.\n",
            "  warnings.warn(\n"
          ]
        },
        {
          "output_type": "execute_result",
          "data": {
            "text/plain": [
              "[{'summary_text': 'A computer science major is being submitted to the University of Cambridge.'}]"
            ]
          },
          "metadata": {},
          "execution_count": 7
        }
      ]
    },
    {
      "cell_type": "code",
      "source": [
        "from transformers import AutoTokenizer, AutoModelForSeq2SeqLM\n",
        "\n",
        "model = AutoModelForSeq2SeqLM.from_pretrained('google/pegasus-xsum')\n",
        "tokenizer = AutoTokenizer.from_pretrained('google/pegasus-xsum')\n",
        "\n",
        "tokens_input = tokenizer.encode(\"summarize: \"+ text_example, return_tensors='pt', max_length=512, truncation=True)\n",
        "ids = model.generate(tokens_input, min_length=80, max_length=120)\n",
        "summary = tokenizer.decode(ids[0], skip_special_tokens=True)\n",
        "\n",
        "print(summary)"
      ],
      "metadata": {
        "colab": {
          "base_uri": "https://localhost:8080/"
        },
        "id": "N_gGRM30IH2_",
        "outputId": "f5b4e7ad-4727-4fa4-f086-b86be223af4d"
      },
      "execution_count": 8,
      "outputs": [
        {
          "output_type": "stream",
          "name": "stdout",
          "text": [
            "The Computer Science major provides a solid foundation in the areas of systems programming, algorithm design, artificial intelligence, and engineering large software systems using state-of-the-art methodologies and programming languages. The Computer Science major provides a solid foundation in the areas of systems programming, algorithm design, artificial intelligence, and engineering large software systems using state-of-the-art methodologies and programming languages. The Computer Science major provides a solid foundation in the areas of systems programming, algorithm design, artificial intelligence, and engineering large software systems using state-of-the-art methodologies and programming languages.\n"
          ]
        }
      ]
    },
    {
      "cell_type": "code",
      "source": [
        "from transformers import AutoTokenizer, AutoModelForSeq2SeqLM\n",
        "\n",
        "tokenizer = AutoTokenizer.from_pretrained(\"facebook/bart-large-cnn\")\n",
        "model = AutoModelForSeq2SeqLM.from_pretrained(\"facebook/bart-large-cnn\")\n",
        "\n",
        "tokens_input = tokenizer.encode(\"summarize: \"+text_example, return_tensors='pt', max_length=512, truncation=True)\n",
        "ids = model.generate(tokens_input, min_length=80, max_length=120)\n",
        "summary = tokenizer.decode(ids[0], skip_special_tokens=True)\n",
        "\n",
        "print(summary)"
      ],
      "metadata": {
        "colab": {
          "base_uri": "https://localhost:8080/"
        },
        "id": "PVT3V1klIIUn",
        "outputId": "850f6e00-9363-488b-a1d1-04f5a4c2241d"
      },
      "execution_count": 9,
      "outputs": [
        {
          "output_type": "stream",
          "name": "stdout",
          "text": [
            "The Computer Science major provides a solid foundation in the areas of systems programming, algorithm design, artificial intelligence, and engineering large software systems. A 2.00 or higher cumulative grade-point average is required. Students should be expected to: develop a solid. foundation in mathematical studies relevant to computer science; master skills in computer. science; enjoy possibilities for internships and part-time employment with local companies; and become problem solvers.\n"
          ]
        }
      ]
    },
    {
      "cell_type": "code",
      "source": [
        "from transformers import AutoTokenizer, AutoModelForSeq2SeqLM\n",
        "\n",
        "tokenizer = AutoTokenizer.from_pretrained(\"csebuetnlp/mT5_multilingual_XLSum\")\n",
        "\n",
        "model = AutoModelForSeq2SeqLM.from_pretrained(\"csebuetnlp/mT5_multilingual_XLSum\")\n",
        "\n",
        "tokens_input = tokenizer.encode(\"summarize: \"+text_example, return_tensors='pt', max_length=512, truncation=True)\n",
        "summary_ids = model.generate(tokens_input, min_length=80, max_length=120)\n",
        "summary = tokenizer.decode(summary_ids[0], skip_special_tokens=True)\n",
        "print(summary)"
      ],
      "metadata": {
        "colab": {
          "base_uri": "https://localhost:8080/"
        },
        "id": "ctmJLD-sIOGT",
        "outputId": "3c6e87a9-168d-4300-de31-4a935e1ea90a"
      },
      "execution_count": 10,
      "outputs": [
        {
          "output_type": "stream",
          "name": "stdout",
          "text": [
            "The Computer Science Major has been announced by the University of Cambridge. Here is the full list of qualifications and criteria for entry to the academic institution. These are some of the key areas being considered by those who have completed mathematical studies in computer science. This is a summary of what needs to be learned from the exam.\n"
          ]
        }
      ]
    }
  ]
}