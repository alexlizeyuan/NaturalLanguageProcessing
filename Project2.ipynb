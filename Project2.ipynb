{
 "cells": [
  {
   "cell_type": "code",
   "execution_count": 1,
   "id": "a6b5fe19",
   "metadata": {
    "pycharm": {
     "is_executing": true
    }
   },
   "outputs": [],
   "source": [
    "from random import choices\n",
    "from nltk.tokenize import regexp_tokenize, word_tokenize\n",
    "from tqdm import tqdm\n",
    "import gc \n",
    "import re"
   ]
  },
  {
   "cell_type": "code",
   "execution_count": 2,
   "id": "767b62c5",
   "metadata": {},
   "outputs": [
    {
     "name": "stdout",
     "output_type": "stream",
     "text": [
      "finish loading books!\n"
     ]
    }
   ],
   "source": [
    "# Read file and tokenize\n",
    "# file = open(\"HarryPotter-test.txt\", \"r\", encoding=\"utf8\")\n",
    "file = open(\"Plato's Republic.txt\", \"r\", encoding=\"utf8\")\n",
    "a = file.read()\n",
    "file.close()\n",
    "# no_punc = re.sub(r'[^\\w\\s]', '', a)\n",
    "\n",
    "tokenized_word = word_tokenize(a)\n",
    "\n",
    "del a\n",
    "gc.collect()\n",
    "\n",
    "# print(tokenized_word)\n",
    "print(\"finish loading books!\")"
   ]
  },
  {
   "cell_type": "code",
   "execution_count": 3,
   "id": "aa25e866",
   "metadata": {},
   "outputs": [
    {
     "name": "stderr",
     "output_type": "stream",
     "text": [
      "100%|██████████| 142909/142909 [00:00<00:00, 602438.27it/s]\n"
     ]
    },
    {
     "name": "stdout",
     "output_type": "stream",
     "text": [
      "finish loading unigram\n"
     ]
    },
    {
     "name": "stderr",
     "output_type": "stream",
     "text": [
      "100%|██████████| 142908/142908 [00:00<00:00, 278614.27it/s]\n"
     ]
    },
    {
     "name": "stdout",
     "output_type": "stream",
     "text": [
      "finish loading bigram\n"
     ]
    },
    {
     "name": "stderr",
     "output_type": "stream",
     "text": [
      "100%|██████████| 142907/142907 [00:00<00:00, 225654.48it/s]\n"
     ]
    },
    {
     "name": "stdout",
     "output_type": "stream",
     "text": [
      "finish loading trigram\n"
     ]
    },
    {
     "data": {
      "text/plain": [
       "0"
      ]
     },
     "execution_count": 3,
     "metadata": {},
     "output_type": "execute_result"
    }
   ],
   "source": [
    "#store probability\n",
    "unigram = {}\n",
    "bigram = {}\n",
    "trigram = {}\n",
    "\n",
    "#unigram\n",
    "for item in tqdm(tokenized_word):\n",
    "    word = item.lower()\n",
    "    if word not in unigram:\n",
    "        unigram[word] = 1\n",
    "    else:\n",
    "        unigram[word] += 1\n",
    "print(\"finish loading unigram\")\n",
    "\n",
    "#bigram\n",
    "for i in tqdm(range(len(tokenized_word)-1)):\n",
    "    word = tokenized_word[i].lower()\n",
    "    next_word = tokenized_word[i+1].lower()\n",
    "    if word not in bigram:\n",
    "        bigram[word] = {}\n",
    "        \n",
    "    if next_word not in bigram[word]:\n",
    "        bigram[word][next_word] = 1\n",
    "    else:\n",
    "        bigram[word][next_word] += 1\n",
    "print(\"finish loading bigram\")\n",
    "                \n",
    "#trigram\n",
    "for i in tqdm(range(len(tokenized_word)-2)):\n",
    "    first_word = tokenized_word[i].lower()\n",
    "    second_word = tokenized_word[i+1].lower()\n",
    "    third_word = tokenized_word[i+2].lower()\n",
    "    given_word = first_word + \" \" + second_word\n",
    "    \n",
    "    if given_word not in trigram:\n",
    "        trigram[given_word] = {}\n",
    "        \n",
    "    if third_word not in trigram[given_word]:\n",
    "        trigram[given_word][third_word] = 1\n",
    "    else:\n",
    "        trigram[given_word][third_word] += 1  \n",
    "print(\"finish loading trigram\")\n",
    "    \n",
    "del tokenized_word\n",
    "gc.collect()"
   ]
  },
  {
   "cell_type": "code",
   "execution_count": 4,
   "id": "2a3215dc",
   "metadata": {},
   "outputs": [
    {
     "name": "stdout",
     "output_type": "stream",
     "text": [
      "finish loading books!\n"
     ]
    }
   ],
   "source": [
    "# Read file and tokenize\n",
    "# file = open(\"HarryPotter-test.txt\", \"r\", encoding=\"utf8\")\n",
    "file = open(\"Aristotle's politics.txt\", \"r\", encoding=\"utf8\")\n",
    "a = file.read()\n",
    "file.close()\n",
    "# no_punc = re.sub(r'[^\\w\\s]', '', a)\n",
    "\n",
    "tokenized_word = word_tokenize(a)\n",
    "\n",
    "del a\n",
    "gc.collect()\n",
    "\n",
    "# print(tokenized_word)\n",
    "print(\"finish loading books!\")"
   ]
  },
  {
   "cell_type": "code",
   "execution_count": 5,
   "id": "d9ae587c",
   "metadata": {},
   "outputs": [
    {
     "name": "stderr",
     "output_type": "stream",
     "text": [
      "100%|██████████| 111513/111513 [00:00<00:00, 452998.34it/s]\n"
     ]
    },
    {
     "name": "stdout",
     "output_type": "stream",
     "text": [
      "finish loading unigram\n"
     ]
    },
    {
     "name": "stderr",
     "output_type": "stream",
     "text": [
      "100%|██████████| 111512/111512 [00:00<00:00, 252400.60it/s]\n"
     ]
    },
    {
     "name": "stdout",
     "output_type": "stream",
     "text": [
      "finish loading bigram\n"
     ]
    },
    {
     "name": "stderr",
     "output_type": "stream",
     "text": [
      "100%|██████████| 111511/111511 [00:00<00:00, 202875.69it/s]\n"
     ]
    },
    {
     "name": "stdout",
     "output_type": "stream",
     "text": [
      "finish loading trigram\n"
     ]
    },
    {
     "data": {
      "text/plain": [
       "0"
      ]
     },
     "execution_count": 5,
     "metadata": {},
     "output_type": "execute_result"
    }
   ],
   "source": [
    "#unigram\n",
    "for item in tqdm(tokenized_word):\n",
    "    word = item.lower()\n",
    "    if word not in unigram:\n",
    "        unigram[word] = 1\n",
    "    else:\n",
    "        unigram[word] += 1\n",
    "print(\"finish loading unigram\")\n",
    "\n",
    "#bigram\n",
    "for i in tqdm(range(len(tokenized_word)-1)):\n",
    "    word = tokenized_word[i].lower()\n",
    "    next_word = tokenized_word[i+1].lower()\n",
    "    if word not in bigram:\n",
    "        bigram[word] = {}\n",
    "        \n",
    "    if next_word not in bigram[word]:\n",
    "        bigram[word][next_word] = 1\n",
    "    else:\n",
    "        bigram[word][next_word] += 1\n",
    "print(\"finish loading bigram\")\n",
    "                \n",
    "#trigram\n",
    "for i in tqdm(range(len(tokenized_word)-2)):\n",
    "    first_word = tokenized_word[i].lower()\n",
    "    second_word = tokenized_word[i+1].lower()\n",
    "    third_word = tokenized_word[i+2].lower()\n",
    "    given_word = first_word + \" \" + second_word\n",
    "    \n",
    "    if given_word not in trigram:\n",
    "        trigram[given_word] = {}\n",
    "        \n",
    "    if third_word not in trigram[given_word]:\n",
    "        trigram[given_word][third_word] = 1\n",
    "    else:\n",
    "        trigram[given_word][third_word] += 1  \n",
    "print(\"finish loading trigram\")\n",
    "    \n",
    "del tokenized_word\n",
    "gc.collect()\n"
   ]
  },
  {
   "cell_type": "code",
   "execution_count": 6,
   "id": "0534b1f4",
   "metadata": {
    "scrolled": true
   },
   "outputs": [],
   "source": [
    "# debugging section\n",
    "# print(unigram)\n",
    "# print(unigram.keys())\n",
    "# print(unigram.values())\n",
    "# print(len(unigram))\n",
    "\n",
    "# print(len(bigram))\n",
    "# print(bigram.keys())\n",
    "# print(bigram[\"boy\"])\n",
    "\n",
    "# print(trigram)\n",
    "# print(trigram[\"have been\"])\n",
    "# print(len(trigram))"
   ]
  },
  {
   "cell_type": "code",
   "execution_count": 7,
   "id": "3ec035cd",
   "metadata": {},
   "outputs": [],
   "source": [
    "#produce nextword:\n",
    "def produce_word(first_word, second_word):\n",
    "    given_word = first_word + \" \" + second_word\n",
    "    if given_word in trigram:\n",
    "        word_list = list(trigram[given_word].keys())\n",
    "        word_weight = list(trigram[given_word].values())\n",
    "#         print(type(word_list))\n",
    "#         print(type(word_weight))\n",
    "    elif second_word in bigram:\n",
    "        #if we do not have these two word, backward to generate from bigram methods\n",
    "        word_list = list(bigram[second_word].keys())\n",
    "        word_weight = list(bigram[second_word].values())\n",
    "#         print(word_list)\n",
    "#         print(word_weight)\n",
    "    else:\n",
    "        #if we do not contains this word at all, backward to generate a word from highest probability\n",
    "        word_list = list(unigram.keys())\n",
    "        word_weight = list(unigram.values()) \n",
    "    \n",
    "    produced_word = choices(word_list, weights=word_weight, k=1)\n",
    "    return(produced_word[0])"
   ]
  },
  {
   "cell_type": "code",
   "execution_count": 8,
   "id": "6b162a26",
   "metadata": {},
   "outputs": [],
   "source": [
    "#debugging\n",
    "# produce_word(\"sdf\", \"wer\")"
   ]
  },
  {
   "cell_type": "code",
   "execution_count": 9,
   "id": "eedf3db9",
   "metadata": {},
   "outputs": [],
   "source": [
    "def paragrah_generating(first_word, second_word):\n",
    "    period_count = 0\n",
    "    word_count = 0\n",
    "#     while count < 30:\n",
    "#         generated_word = produce_word(first_word, second_word)\n",
    "#         print(generated_word, end=\" \")\n",
    "#         first_word = second_word\n",
    "#         second_word = generated_word\n",
    "#         count += 1\n",
    "    while period_count < 3 and word_count < 100:\n",
    "        generated_word = produce_word(first_word, second_word)\n",
    "        print(generated_word, end=\" \")\n",
    "        first_word = second_word\n",
    "        second_word = generated_word\n",
    "        if generated_word == \".\":\n",
    "            period_count += 1\n",
    "        word_count += 1"
   ]
  },
  {
   "cell_type": "code",
   "execution_count": 10,
   "id": "068e2688",
   "metadata": {},
   "outputs": [],
   "source": [
    "def user_interface():\n",
    "    print(\"Welcome! please type a couple words:\")\n",
    "    user_input = input()\n",
    "    result = word_tokenize(user_input)\n",
    "    while len(result) < 2:\n",
    "        print(\"Please enter more words:\")\n",
    "        user_input = input()\n",
    "        result = word_tokenize(user_input)\n",
    "    first_word = result[len(result) - 2]\n",
    "    second_word = result[len(result) - 1]\n",
    "    paragrah_generating(first_word, second_word)\n",
    "    \n",
    "    "
   ]
  },
  {
   "cell_type": "code",
   "execution_count": 13,
   "id": "5303a155",
   "metadata": {},
   "outputs": [
    {
     "name": "stdout",
     "output_type": "stream",
     "text": [
      "Welcome! please type a couple words:\n",
      "asd asdq\n",
      "of money by exchange , another when it is or has wants ; for except the community , so it would have been permitted to a certain degree ; but the good they define a citizen illegally created yet continues to the nurses and attendants . you mean ? i replied ; pleasure deprives a man he is content to call existing constitutions perversions of the first thing necessary : now , suppose them to be speaking the truth being that the good of his sons . note that the governors of mankind . "
     ]
    }
   ],
   "source": [
    "user_interface()"
   ]
  },
  {
   "cell_type": "code",
   "execution_count": 14,
   "id": "d56796e9",
   "metadata": {},
   "outputs": [
    {
     "ename": "NameError",
     "evalue": "name 'money' is not defined",
     "output_type": "error",
     "traceback": [
      "\u001b[1;31m---------------------------------------------------------------------------\u001b[0m",
      "\u001b[1;31mNameError\u001b[0m                                 Traceback (most recent call last)",
      "Cell \u001b[1;32mIn[14], line 1\u001b[0m\n\u001b[1;32m----> 1\u001b[0m \u001b[38;5;28mprint\u001b[39m(bigram[\u001b[43mmoney\u001b[49m])\n",
      "\u001b[1;31mNameError\u001b[0m: name 'money' is not defined"
     ]
    }
   ],
   "source": [
    "print(bigram[\"money\"])"
   ]
  },
  {
   "cell_type": "code",
   "execution_count": null,
   "id": "0a0f06b0",
   "metadata": {},
   "outputs": [],
   "source": []
  }
 ],
 "metadata": {
  "kernelspec": {
   "display_name": "Python 3 (ipykernel)",
   "language": "python",
   "name": "python3"
  },
  "language_info": {
   "codemirror_mode": {
    "name": "ipython",
    "version": 3
   },
   "file_extension": ".py",
   "mimetype": "text/x-python",
   "name": "python",
   "nbconvert_exporter": "python",
   "pygments_lexer": "ipython3",
   "version": "3.9.15"
  }
 },
 "nbformat": 4,
 "nbformat_minor": 5
}
