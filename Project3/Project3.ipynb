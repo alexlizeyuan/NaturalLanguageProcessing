{
 "cells": [
  {
   "cell_type": "code",
   "execution_count": 1,
   "id": "c584c40b",
   "metadata": {},
   "outputs": [],
   "source": [
    "from random import choices\n",
    "from nltk.tokenize import regexp_tokenize, word_tokenize\n",
    "from tqdm import tqdm\n",
    "import gc \n",
    "import re\n",
    "import math"
   ]
  },
  {
   "cell_type": "code",
   "execution_count": 2,
   "id": "0c91c7b9",
   "metadata": {},
   "outputs": [
    {
     "name": "stdout",
     "output_type": "stream",
     "text": [
      "7108\n",
      "finish loading train_label!\n"
     ]
    }
   ],
   "source": [
    "# Read file and tokenize\n",
    "file = open(\"label_train.txt\", \"r\", encoding=\"utf8\")\n",
    "a = file.read()\n",
    "file.close()\n",
    "\n",
    "train_label = word_tokenize(a)\n",
    "\n",
    "del a\n",
    "gc.collect()\n",
    "\n",
    "print(len(train_label))\n",
    "print(\"finish loading train_label!\")"
   ]
  },
  {
   "cell_type": "code",
   "execution_count": 3,
   "id": "8ee1a57f",
   "metadata": {},
   "outputs": [
    {
     "name": "stdout",
     "output_type": "stream",
     "text": [
      "7108\n"
     ]
    }
   ],
   "source": [
    "train_arr = []\n",
    "with open('text_train.txt', encoding=\"utf8\") as train_file:\n",
    "    for line in train_file:\n",
    "        word_arr = []\n",
    "        no_punc = re.sub(r'[^\\w\\s]', '', line)\n",
    "        word_arr = word_tokenize(no_punc)\n",
    "        train_arr.append(word_arr)\n",
    "train_file.close()\n",
    "\n",
    "print(len(train_arr))\n",
    "# print(train_arr[0])\n"
   ]
  },
  {
   "cell_type": "code",
   "execution_count": 4,
   "id": "ad0ca3ea",
   "metadata": {},
   "outputs": [],
   "source": [
    "#Count words and vocabulary\n",
    "total_vocab = {}\n",
    "pos_word = {}\n",
    "neg_word = {}\n",
    "pos_line = 0\n",
    "neg_line = 0\n",
    "count_pos_word = 0\n",
    "count_neg_word = 0\n",
    "count_vocab = 0\n",
    "for line in train_arr:\n",
    "    for word in line:\n",
    "        if word not in total_vocab:\n",
    "            total_vocab[word] = 1\n",
    "        else:\n",
    "            total_vocab[word] += 1\n",
    "\n",
    "# print(len(total_vocab))\n",
    "count_vocav = len(total_vocab)\n",
    "\n",
    "for i in range (len(train_arr)):\n",
    "    if train_label[i] == \"1\":\n",
    "        #positive feedback\n",
    "        pos_line += 1\n",
    "        for word in train_arr[i]:\n",
    "            count_pos_word += 1\n",
    "            if word not in pos_word:\n",
    "                pos_word[word] = 1\n",
    "            else:\n",
    "                pos_word[word] += 1\n",
    "                \n",
    "    elif train_label[i] == \"0\":\n",
    "        #negative feedback\n",
    "        neg_line += 1\n",
    "        for word in train_arr[i]:\n",
    "            count_neg_word += 1\n",
    "            if word not in neg_word:\n",
    "                neg_word[word] = 1\n",
    "            else:\n",
    "                neg_word[word] += 1\n",
    "\n",
    "pos_lin_prob = pos_line / (pos_line + neg_line)\n",
    "neg_lin_prob = neg_line / (pos_line + neg_line)"
   ]
  },
  {
   "cell_type": "code",
   "execution_count": 5,
   "id": "b7d3caba",
   "metadata": {},
   "outputs": [],
   "source": [
    "def user_interface():\n",
    "    print(\"Welcome! please type a review and we will judge if it's positive or negative\")\n",
    "    user_input = input()\n",
    "    no_punc = re.sub(r'[^\\w\\s]', '', user_input)\n",
    "    word_arr = word_tokenize(no_punc)\n",
    "    result = determine_sentiment(word_arr)\n",
    "    print (result)\n",
    "    \n",
    "def determine_sentiment(word_arr):\n",
    "    #calculate positive\n",
    "    total_pos_prob = 0\n",
    "    total_neg_prob = 0\n",
    "    \n",
    "    for word in word_arr:\n",
    "        if word in total_vocab:\n",
    "            word_pos_prob = 0\n",
    "            if word in pos_word:\n",
    "                word_pos_prob = math.log ((pos_word[word] + 1) / (count_pos_word + count_vocab))\n",
    "            else:\n",
    "                word_pos_prob = math.log (1 / (count_pos_word + count_vocab))\n",
    "            total_pos_prob += word_pos_prob\n",
    "    \n",
    "            word_neg_prob = 0\n",
    "            if word in neg_word:\n",
    "                word_neg_prob = math.log ((neg_word[word] + 1) / (count_neg_word + count_vocab))\n",
    "            else:\n",
    "                word_neg_prob = math.log (1 / (count_neg_word + count_vocab))\n",
    "            total_neg_prob += word_neg_prob\n",
    "            \n",
    "    total_pos_prob += math.log (pos_lin_prob)\n",
    "    total_neg_prob += math.log (neg_lin_prob)\n",
    "    \n",
    "    if total_pos_prob > total_neg_prob:\n",
    "        return \"Postive\"\n",
    "    elif total_pos_prob == total_neg_prob:\n",
    "        return \"Middle\"\n",
    "    else:\n",
    "        return \"Negative\"\n",
    "    \n",
    "    \n",
    "        "
   ]
  },
  {
   "cell_type": "code",
   "execution_count": 10,
   "id": "7fb1d9fe",
   "metadata": {},
   "outputs": [
    {
     "name": "stdout",
     "output_type": "stream",
     "text": [
      "Welcome! please type a review and we will judge if it's positive or negative\n",
      "great movie\n",
      "Postive\n"
     ]
    }
   ],
   "source": [
    "user_interface()"
   ]
  },
  {
   "cell_type": "code",
   "execution_count": 7,
   "id": "bb4495d8",
   "metadata": {},
   "outputs": [
    {
     "name": "stdout",
     "output_type": "stream",
     "text": [
      "3554\n",
      "finish loading test_label!\n"
     ]
    }
   ],
   "source": [
    "# Read file and tokenize\n",
    "file = open(\"label_test.txt\", \"r\", encoding=\"utf8\")\n",
    "a = file.read()\n",
    "file.close()\n",
    "\n",
    "test_label = word_tokenize(a)\n",
    "\n",
    "del a\n",
    "gc.collect()\n",
    "\n",
    "print(len(test_label))\n",
    "print(\"finish loading test_label!\")"
   ]
  },
  {
   "cell_type": "code",
   "execution_count": 8,
   "id": "274c15ca",
   "metadata": {},
   "outputs": [
    {
     "name": "stdout",
     "output_type": "stream",
     "text": [
      "3554\n"
     ]
    }
   ],
   "source": [
    "test_arr = []\n",
    "with open('text_test.txt', encoding=\"utf8\") as test_file:\n",
    "    for line in test_file:\n",
    "        word_arr = []\n",
    "        no_punc = re.sub(r'[^\\w\\s]', '', line)\n",
    "        word_arr = word_tokenize(no_punc)\n",
    "        test_arr.append(word_arr)\n",
    "test_file.close()\n",
    "\n",
    "print(len(test_arr))\n",
    "# print(train_arr[0])\n"
   ]
  },
  {
   "cell_type": "code",
   "execution_count": 9,
   "id": "a779fed4",
   "metadata": {},
   "outputs": [
    {
     "name": "stdout",
     "output_type": "stream",
     "text": [
      "correct predict rate is:  0.7625211029825548\n"
     ]
    }
   ],
   "source": [
    "predict_arr = []\n",
    "for line in test_arr:\n",
    "    result = determine_sentiment(line)\n",
    "    if result == \"Postive\":\n",
    "        predict_arr.append('1')\n",
    "    elif result == \"Middle\":\n",
    "        predict_arr.append('X')\n",
    "    elif result == \"Negative\":\n",
    "        predict_arr.append('0')\n",
    "\n",
    "    \n",
    "correct_count = 0\n",
    "for i in range(len(test_label)):\n",
    "    if test_label[i] == predict_arr[i]:\n",
    "        correct_count += 1\n",
    "\n",
    "print(\"correct predict rate is: \", correct_count/len(test_label))"
   ]
  },
  {
   "cell_type": "code",
   "execution_count": null,
   "id": "2e07bf0f",
   "metadata": {},
   "outputs": [],
   "source": []
  }
 ],
 "metadata": {
  "kernelspec": {
   "display_name": "Python 3 (ipykernel)",
   "language": "python",
   "name": "python3"
  },
  "language_info": {
   "codemirror_mode": {
    "name": "ipython",
    "version": 3
   },
   "file_extension": ".py",
   "mimetype": "text/x-python",
   "name": "python",
   "nbconvert_exporter": "python",
   "pygments_lexer": "ipython3",
   "version": "3.9.13"
  }
 },
 "nbformat": 4,
 "nbformat_minor": 5
}
